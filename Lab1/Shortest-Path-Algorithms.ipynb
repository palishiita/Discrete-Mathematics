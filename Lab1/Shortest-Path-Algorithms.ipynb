{
 "cells": [
  {
   "cell_type": "markdown",
   "metadata": {},
   "source": [
    "# Shortest Path Algorithms: Dijkstra and Bellman-Ford "
   ]
  },
  {
   "cell_type": "markdown",
   "metadata": {},
   "source": [
    "### Introduction\n",
    "In graph theory and computer science, finding the shortest path between nodes is a fundamental problem with a wide range of applications. Two of the most commonly used algorithms to solve this problem are **Dijkstra's Algorithm** and **Bellman-Ford Algorithm**.\n",
    "\n",
    "### Dijkstra’s Algorithm\n",
    "- Finds the shortest path from a starting node to all other nodes in a weighted graph.\n",
    "- **Constraint**: Works with **non-negative weights only**.\n",
    "- **Efficiency**: Fast for sparse graphs due to priority queue (min-heap).\n",
    "- **Time Complexity**: O((V + E) log V)\n",
    "\n",
    "### Bellman-Ford Algorithm\n",
    "- Also finds shortest paths from a starting node to all other nodes.\n",
    "- **Advantage**: Handles **negative weights** and detects **negative weight cycles**.\n",
    "- **Time Complexity**: O(V * E)\n",
    "\n",
    "### Real-World Applications\n",
    "- **Dijkstra**: GPS Navigation (fastest routes), Network Routing (OSPF protocol), Games (pathfinding AI).\n",
    "- **Bellman-Ford**: Currency Arbitrage Detection (negative weights), Routing Protocols (RIP), Financial Networks.\n",
    "\n",
    "In this notebook, we will implement both algorithms, compare their performance across graphs of different sizes, and visualize their execution times."
   ]
  },
  {
   "cell_type": "code",
   "execution_count": 12,
   "metadata": {},
   "outputs": [],
   "source": [
    "import numpy as np\n",
    "import pandas as pd\n",
    "import csv\n",
    "import time\n",
    "import heapq\n",
    "from collections import defaultdict\n",
    "import networkx as nx\n",
    "import osmnx as ox"
   ]
  },
  {
   "cell_type": "code",
   "execution_count": 2,
   "metadata": {},
   "outputs": [],
   "source": [
    "# Function to generate and export a sample graph\n",
    "def generate_and_export_graph(node_count, edge_count, file_path='graph_edges.csv', allow_negative=False):\n",
    "    G = nx.gnm_random_graph(n=node_count, m=edge_count, directed=True)\n",
    "    for (u, v) in G.edges():\n",
    "        weight = np.random.randint(-10, 11) if allow_negative else np.random.randint(1, 11)\n",
    "        G.edges[u, v]['weight'] = weight\n",
    "\n",
    "    with open(file_path, mode='w', newline='') as file:\n",
    "        writer = csv.writer(file)\n",
    "        writer.writerow(['Source', 'Target', 'Weight'])\n",
    "        for u, v, data in G.edges(data=True):\n",
    "            writer.writerow([u, v, data['weight']])\n",
    "\n",
    "    return file_path"
   ]
  },
  {
   "cell_type": "code",
   "execution_count": 3,
   "metadata": {},
   "outputs": [],
   "source": [
    "# Load graph from CSV\n",
    "def load_graph_from_csv(file_path):\n",
    "    graph = defaultdict(list)\n",
    "    nodes = set()\n",
    "    with open(file_path, mode='r') as file:\n",
    "        reader = csv.DictReader(file)\n",
    "        for row in reader:\n",
    "            u = int(row['Source'])\n",
    "            v = int(row['Target'])\n",
    "            w = int(row['Weight'])\n",
    "            graph[u].append((v, w))\n",
    "            nodes.update([u, v])\n",
    "    return graph, list(nodes)"
   ]
  },
  {
   "cell_type": "code",
   "execution_count": 4,
   "metadata": {},
   "outputs": [],
   "source": [
    "# Dijkstra's Algorithm from scratch\n",
    "def dijkstra(graph, start):\n",
    "    dist = {node: float('inf') for node in graph}\n",
    "    dist[start] = 0\n",
    "    pq = [(0, start)]\n",
    "    \n",
    "    while pq:\n",
    "        current_dist, u = heapq.heappop(pq)\n",
    "        if current_dist > dist[u]:\n",
    "            continue\n",
    "        for v, weight in graph[u]:\n",
    "            distance = current_dist + weight\n",
    "            if distance < dist.get(v, float('inf')):\n",
    "                dist[v] = distance\n",
    "                heapq.heappush(pq, (distance, v))\n",
    "    return dist"
   ]
  },
  {
   "cell_type": "code",
   "execution_count": 5,
   "metadata": {},
   "outputs": [],
   "source": [
    "# Bellman-Ford Algorithm from scratch\n",
    "def bellman_ford(graph, nodes, start):\n",
    "    dist = {node: float('inf') for node in nodes}\n",
    "    dist[start] = 0\n",
    "\n",
    "    for _ in range(len(nodes) - 1):\n",
    "        for u in graph:\n",
    "            for v, weight in graph[u]:\n",
    "                if dist[u] + weight < dist[v]:\n",
    "                    dist[v] = dist[u] + weight\n",
    "    return dist"
   ]
  },
  {
   "cell_type": "code",
   "execution_count": 6,
   "metadata": {},
   "outputs": [],
   "source": [
    "# Timing function for custom algorithms\n",
    "def measure_algorithm_time(func, *args, runs=10):\n",
    "    times = []\n",
    "    for _ in range(runs):\n",
    "        start_time = time.time()\n",
    "        func(*args)\n",
    "        end_time = time.time()\n",
    "        times.append((end_time - start_time) * 1000)  # ms\n",
    "    return {\n",
    "        'min': np.min(times),\n",
    "        'max': np.max(times),\n",
    "        'avg': np.mean(times),\n",
    "        'std': np.std(times)\n",
    "    }"
   ]
  },
  {
   "cell_type": "code",
   "execution_count": 7,
   "metadata": {},
   "outputs": [],
   "source": [
    "# Graph sizes and settings\n",
    "graph_settings = [\n",
    "    {'nodes': 10, 'edges': 20, 'name': 'Small', 'allow_negative': False},\n",
    "    {'nodes': 100, 'edges': 300, 'name': 'Medium', 'allow_negative': False},\n",
    "    {'nodes': 1000, 'edges': 3000, 'name': 'Large', 'allow_negative': False},\n",
    "    {'nodes': 10, 'edges': 20, 'name': 'Small-Negative', 'allow_negative': True},\n",
    "]\n",
    "\n",
    "# Store results\n",
    "table_data = []"
   ]
  },
  {
   "cell_type": "code",
   "execution_count": 8,
   "metadata": {},
   "outputs": [
    {
     "name": "stdout",
     "output_type": "stream",
     "text": [
      "\n",
      "Running for graph: Small\n",
      "\n",
      "Running for graph: Medium\n",
      "\n",
      "Running for graph: Large\n",
      "\n",
      "Running for graph: Small-Negative\n"
     ]
    }
   ],
   "source": [
    "for setting in graph_settings:\n",
    "    print(f\"\\nRunning for graph: {setting['name']}\")\n",
    "    file_path = generate_and_export_graph(setting['nodes'], setting['edges'], f\"graph_{setting['name']}.csv\", setting['allow_negative'])\n",
    "    graph, nodes = load_graph_from_csv(file_path)\n",
    "\n",
    "    if not setting['allow_negative']:\n",
    "        dijkstra_results = measure_algorithm_time(dijkstra, graph, nodes[0])\n",
    "        table_data.append({\n",
    "            'Graph': setting['name'],\n",
    "            'Algorithm': 'Dijkstra',\n",
    "            'Min [ms]': dijkstra_results['min'],\n",
    "            'Max [ms]': dijkstra_results['max'],\n",
    "            'Avg [ms]': dijkstra_results['avg'],\n",
    "            'Std [ms]': dijkstra_results['std']\n",
    "        })\n",
    "\n",
    "    bellman_results = measure_algorithm_time(bellman_ford, graph, nodes, nodes[0])\n",
    "    table_data.append({\n",
    "        'Graph': setting['name'],\n",
    "        'Algorithm': 'Bellman-Ford',\n",
    "        'Min [ms]': bellman_results['min'],\n",
    "        'Max [ms]': bellman_results['max'],\n",
    "        'Avg [ms]': bellman_results['avg'],\n",
    "        'Std [ms]': bellman_results['std']\n",
    "    })"
   ]
  },
  {
   "cell_type": "code",
   "execution_count": 9,
   "metadata": {},
   "outputs": [
    {
     "name": "stdout",
     "output_type": "stream",
     "text": [
      "            Graph     Algorithm    Min [ms]    Max [ms]    Avg [ms]   Std [ms]\n",
      "0           Small      Dijkstra    0.000000    0.000000    0.000000   0.000000\n",
      "1           Small  Bellman-Ford    0.000000    0.000000    0.000000   0.000000\n",
      "2          Medium      Dijkstra    0.000000    0.997305    0.099730   0.299191\n",
      "3          Medium  Bellman-Ford    1.998425    3.001451    2.500081   0.500274\n",
      "4           Large      Dijkstra    0.992775    2.001286    1.498580   0.495416\n",
      "5           Large  Bellman-Ford  355.102777  584.552050  409.016275  70.856512\n",
      "6  Small-Negative  Bellman-Ford    0.000000    0.000000    0.000000   0.000000\n"
     ]
    }
   ],
   "source": [
    "# Display results\n",
    "df = pd.DataFrame(table_data)\n",
    "print(df)"
   ]
  },
  {
   "cell_type": "code",
   "execution_count": 10,
   "metadata": {},
   "outputs": [],
   "source": [
    "# Save results to CSV\n",
    "df.to_csv('performance_results.csv', index=False)"
   ]
  },
  {
   "cell_type": "code",
   "execution_count": 11,
   "metadata": {},
   "outputs": [
    {
     "name": "stderr",
     "output_type": "stream",
     "text": [
      "WARNING: Ignoring invalid distribution ~ (C:\\Python312\\Lib\\site-packages)\n",
      "WARNING: Ignoring invalid distribution ~ip (C:\\Python312\\Lib\\site-packages)\n",
      "WARNING: Ignoring invalid distribution ~~p (C:\\Python312\\Lib\\site-packages)\n",
      "WARNING: Ignoring invalid distribution ~ (C:\\Python312\\Lib\\site-packages)\n",
      "WARNING: Ignoring invalid distribution ~ip (C:\\Python312\\Lib\\site-packages)\n",
      "WARNING: Ignoring invalid distribution ~~p (C:\\Python312\\Lib\\site-packages)\n",
      "WARNING: Ignoring invalid distribution ~ (C:\\Python312\\Lib\\site-packages)\n",
      "WARNING: Ignoring invalid distribution ~ip (C:\\Python312\\Lib\\site-packages)\n",
      "WARNING: Ignoring invalid distribution ~~p (C:\\Python312\\Lib\\site-packages)\n"
     ]
    },
    {
     "name": "stdout",
     "output_type": "stream",
     "text": [
      "Collecting osmnx\n",
      "  Downloading osmnx-2.0.1-py3-none-any.whl.metadata (4.9 kB)\n",
      "Requirement already satisfied: geopandas>=1.0 in c:\\users\\ishii\\appdata\\roaming\\python\\python312\\site-packages (from osmnx) (1.0.1)\n",
      "Requirement already satisfied: networkx>=2.5 in c:\\users\\ishii\\appdata\\roaming\\python\\python312\\site-packages (from osmnx) (3.3)\n",
      "Requirement already satisfied: numpy>=1.22 in c:\\users\\ishii\\appdata\\roaming\\python\\python312\\site-packages (from osmnx) (1.26.4)\n",
      "Requirement already satisfied: pandas>=1.4 in c:\\python312\\lib\\site-packages (from osmnx) (2.2.2)\n",
      "Requirement already satisfied: requests>=2.27 in c:\\users\\ishii\\appdata\\roaming\\python\\python312\\site-packages (from osmnx) (2.31.0)\n",
      "Requirement already satisfied: shapely>=2.0 in c:\\python312\\lib\\site-packages (from osmnx) (2.0.7)\n",
      "Requirement already satisfied: pyogrio>=0.7.2 in c:\\users\\ishii\\appdata\\roaming\\python\\python312\\site-packages (from geopandas>=1.0->osmnx) (0.10.0)\n",
      "Requirement already satisfied: packaging in c:\\users\\ishii\\appdata\\roaming\\python\\python312\\site-packages (from geopandas>=1.0->osmnx) (24.2)\n",
      "Requirement already satisfied: pyproj>=3.3.0 in c:\\python312\\lib\\site-packages (from geopandas>=1.0->osmnx) (3.7.0)\n",
      "Requirement already satisfied: python-dateutil>=2.8.2 in c:\\users\\ishii\\appdata\\roaming\\python\\python312\\site-packages (from pandas>=1.4->osmnx) (2.9.0.post0)\n",
      "Requirement already satisfied: pytz>=2020.1 in c:\\python312\\lib\\site-packages (from pandas>=1.4->osmnx) (2024.1)\n",
      "Requirement already satisfied: tzdata>=2022.7 in c:\\python312\\lib\\site-packages (from pandas>=1.4->osmnx) (2024.1)\n",
      "Requirement already satisfied: charset-normalizer<4,>=2 in c:\\users\\ishii\\appdata\\roaming\\python\\python312\\site-packages (from requests>=2.27->osmnx) (3.3.2)\n",
      "Requirement already satisfied: idna<4,>=2.5 in c:\\users\\ishii\\appdata\\roaming\\python\\python312\\site-packages (from requests>=2.27->osmnx) (3.7)\n",
      "Requirement already satisfied: urllib3<3,>=1.21.1 in c:\\users\\ishii\\appdata\\roaming\\python\\python312\\site-packages (from requests>=2.27->osmnx) (2.2.1)\n",
      "Requirement already satisfied: certifi>=2017.4.17 in c:\\users\\ishii\\appdata\\roaming\\python\\python312\\site-packages (from requests>=2.27->osmnx) (2024.2.2)\n",
      "Requirement already satisfied: six>=1.5 in c:\\users\\ishii\\appdata\\roaming\\python\\python312\\site-packages (from python-dateutil>=2.8.2->pandas>=1.4->osmnx) (1.17.0)\n",
      "Downloading osmnx-2.0.1-py3-none-any.whl (99 kB)\n",
      "Installing collected packages: osmnx\n",
      "Successfully installed osmnx-2.0.1\n"
     ]
    }
   ],
   "source": [
    "!pip install osmnx"
   ]
  },
  {
   "cell_type": "code",
   "execution_count": 16,
   "metadata": {},
   "outputs": [],
   "source": [
    "# Function to extract and save real-world graph\n",
    "def extract_real_world_graph(place_name=\"Wrocław, Poland\"):\n",
    "    print(f\"\\nExtracting real-world graph for: {place_name}\")\n",
    "    G_osm = ox.graph_from_place(place_name, network_type='drive')\n",
    "    G_simplified = G_osm.to_undirected()\n",
    "\n",
    "    edges_osm = []\n",
    "    for u, v, data in G_simplified.edges(data=True):\n",
    "        weight = data.get('length', 1)\n",
    "        edges_osm.append((u, v, weight))\n",
    "\n",
    "    real_csv = 'real_road_network.csv'\n",
    "    with open(real_csv, mode='w', newline='') as file:\n",
    "        writer = csv.writer(file)\n",
    "        writer.writerow(['Source', 'Target', 'Weight'])\n",
    "        for u, v, w in edges_osm:\n",
    "            writer.writerow([u, v, int(w)])\n",
    "\n",
    "    return real_csv"
   ]
  },
  {
   "cell_type": "code",
   "execution_count": 17,
   "metadata": {},
   "outputs": [],
   "source": [
    "# Function to run performance tests on real-world graph\n",
    "def run_real_world_test(place_name=\"Wrocław, Poland\"):\n",
    "    real_csv = extract_real_world_graph(place_name)\n",
    "    graph, nodes = load_graph_from_csv(real_csv)\n",
    "\n",
    "    dijkstra_real = measure_algorithm_time(dijkstra, graph, nodes[0])\n",
    "    bellman_real = measure_algorithm_time(bellman_ford, graph, nodes, nodes[0])\n",
    "\n",
    "    return [\n",
    "        {\n",
    "            'Graph': f'Real-World ({place_name})',\n",
    "            'Algorithm': 'Dijkstra',\n",
    "            'Min [ms]': dijkstra_real['min'],\n",
    "            'Max [ms]': dijkstra_real['max'],\n",
    "            'Avg [ms]': dijkstra_real['avg'],\n",
    "            'Std [ms]': dijkstra_real['std']\n",
    "        },\n",
    "        {\n",
    "            'Graph': f'Real-World ({place_name})',\n",
    "            'Algorithm': 'Bellman-Ford',\n",
    "            'Min [ms]': bellman_real['min'],\n",
    "            'Max [ms]': bellman_real['max'],\n",
    "            'Avg [ms]': bellman_real['avg'],\n",
    "            'Std [ms]': bellman_real['std']\n",
    "        }\n",
    "    ]"
   ]
  },
  {
   "cell_type": "code",
   "execution_count": 20,
   "metadata": {},
   "outputs": [
    {
     "name": "stdout",
     "output_type": "stream",
     "text": [
      "\n",
      "Extracting real-world graph for: Wrocław, Poland\n",
      "\n",
      "Real-World Graph Results:\n",
      "                          Graph     Algorithm      Min [ms]      Max [ms]  \\\n",
      "0  Real-World (Wrocław, Poland)      Dijkstra      0.000000      1.082182   \n",
      "1  Real-World (Wrocław, Poland)  Bellman-Ford  10763.916731  21008.255243   \n",
      "\n",
      "       Avg [ms]     Std [ms]  \n",
      "0      0.900340     0.302489  \n",
      "1  13819.186759  3139.594899  \n"
     ]
    }
   ],
   "source": [
    "# Real-world graph test\n",
    "real_data = run_real_world_test()\n",
    "df_real = pd.DataFrame(real_data)\n",
    "print(\"\\nReal-World Graph Results:\")\n",
    "print(df_real)\n",
    "df_real.to_csv('performance_results_real_world.csv', index=False)"
   ]
  }
 ],
 "metadata": {
  "kernelspec": {
   "display_name": "Python 3",
   "language": "python",
   "name": "python3"
  },
  "language_info": {
   "codemirror_mode": {
    "name": "ipython",
    "version": 3
   },
   "file_extension": ".py",
   "mimetype": "text/x-python",
   "name": "python",
   "nbconvert_exporter": "python",
   "pygments_lexer": "ipython3",
   "version": "3.12.2"
  }
 },
 "nbformat": 4,
 "nbformat_minor": 2
}
